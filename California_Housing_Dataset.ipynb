{
  "cells": [
    {
      "cell_type": "markdown",
      "metadata": {
        "id": "xOqObuz4i_cz"
      },
      "source": [
        "🏡 California Housing Price Prediction using Deep Neural Networks\n",
        "\n",
        "📁 Portfolio Project by Aishwarya\n",
        "\n",
        "This notebook demonstrates a custom deep learning model to predict housing prices in California districts using the California Housing dataset from Scikit-learn. The model architecture, training strategy, and optimization techniques — including dropout, L2 regularization, early stopping, and learning rate tuning — have been carefully implemented to reflect a strong understanding of neural network design and regression modeling using TensorFlow/Keras."
      ]
    },
    {
      "cell_type": "markdown",
      "metadata": {
        "id": "PSHTN6Q8eqoC"
      },
      "source": [
        "*The 8 input features are the following:*\n",
        "\n",
        "**MedInc:** median income in block group\n",
        "\n",
        "**HouseAge:** median house age in block group\n",
        "\n",
        "**AveRooms:** average number of rooms per household\n",
        "\n",
        "**AveBedrms:** average number of bedrooms per household\n",
        "\n",
        "**Population:** block group population\n",
        "\n",
        "**AveOccup:** average number of household members\n",
        "\n",
        "**Latitude:** block group latitude\n",
        "\n",
        "**Longitude:** block group longitude\n",
        "\n",
        "*The target variable is a scalar: the median house value for California districts, in dollars.*\n"
      ]
    },
    {
      "cell_type": "markdown",
      "metadata": {
        "id": "H-o690m7i_cz"
      },
      "source": [
        "Let's load, split and scale the California housing dataset:"
      ]
    },
    {
      "cell_type": "code",
      "execution_count": 1,
      "metadata": {
        "id": "pReVeHCndRAu"
      },
      "outputs": [],
      "source": [
        "import tensorflow as tf\n",
        "from tensorflow import keras\n",
        "import numpy as np\n",
        "import matplotlib.pyplot as plt\n",
        "import pandas as pd"
      ]
    },
    {
      "cell_type": "code",
      "execution_count": 2,
      "metadata": {
        "id": "73FCBO34i_cz"
      },
      "outputs": [],
      "source": [
        "from sklearn.datasets import fetch_california_housing\n",
        "from sklearn.model_selection import train_test_split\n",
        "from sklearn.preprocessing import StandardScaler\n",
        "\n",
        "housing = fetch_california_housing()\n",
        "\n",
        "X_train_full, X_test, y_train_full, y_test = train_test_split(housing.data, housing.target, random_state=42)\n",
        "X_train, X_valid, y_train, y_valid = train_test_split(X_train_full, y_train_full, random_state=42)"
      ]
    },
    {
      "cell_type": "code",
      "execution_count": 3,
      "metadata": {
        "colab": {
          "base_uri": "https://localhost:8080/"
        },
        "id": "mYz9FVSiceUK",
        "outputId": "93f71b04-9a43-4f5d-cbd2-c23a0c9d33a9"
      },
      "outputs": [
        {
          "output_type": "execute_result",
          "data": {
            "text/plain": [
              "15480"
            ]
          },
          "metadata": {},
          "execution_count": 3
        }
      ],
      "source": [
        "len(X_train_full)"
      ]
    },
    {
      "cell_type": "code",
      "execution_count": 4,
      "metadata": {
        "colab": {
          "base_uri": "https://localhost:8080/"
        },
        "id": "oXfAqIgX5oBC",
        "outputId": "142cd962-b243-41bc-b74d-92cd0b61b295"
      },
      "outputs": [
        {
          "output_type": "execute_result",
          "data": {
            "text/plain": [
              "5160"
            ]
          },
          "metadata": {},
          "execution_count": 4
        }
      ],
      "source": [
        "len(X_test)"
      ]
    },
    {
      "cell_type": "code",
      "execution_count": 5,
      "metadata": {
        "colab": {
          "base_uri": "https://localhost:8080/"
        },
        "id": "MDj2w-bK5tme",
        "outputId": "ce050186-2f7b-4272-f072-3b9ea0dcea43"
      },
      "outputs": [
        {
          "output_type": "execute_result",
          "data": {
            "text/plain": [
              "3870"
            ]
          },
          "metadata": {},
          "execution_count": 5
        }
      ],
      "source": [
        "len(X_valid)"
      ]
    },
    {
      "cell_type": "code",
      "execution_count": 6,
      "metadata": {
        "colab": {
          "base_uri": "https://localhost:8080/"
        },
        "id": "9JX160Bs5yI8",
        "outputId": "7f59c6d4-faa9-4a4a-ba81-a847dcd53644"
      },
      "outputs": [
        {
          "output_type": "execute_result",
          "data": {
            "text/plain": [
              "11610"
            ]
          },
          "metadata": {},
          "execution_count": 6
        }
      ],
      "source": [
        "len(X_train)"
      ]
    },
    {
      "cell_type": "code",
      "execution_count": 7,
      "metadata": {
        "colab": {
          "base_uri": "https://localhost:8080/"
        },
        "id": "YCWa8jPxfEbP",
        "outputId": "08bd968a-bb40-4352-ea20-1d38847183a1"
      },
      "outputs": [
        {
          "output_type": "stream",
          "name": "stdout",
          "text": [
            "   MedInc  HouseAge  AveRooms  AveBedrms  Population  AveOccup  Latitude  \\\n",
            "0  3.5214      15.0  3.049945   1.106548      1447.0  1.605993     37.63   \n",
            "1  5.3275       5.0  6.490060   0.991054      3464.0  3.443340     33.69   \n",
            "2  3.1000      29.0  7.542373   1.591525      1328.0  2.250847     38.44   \n",
            "3  7.1736      12.0  6.289003   0.997442      1054.0  2.695652     33.55   \n",
            "4  2.0549      13.0  5.312457   1.085092      3297.0  2.244384     33.93   \n",
            "\n",
            "   Longitude  \n",
            "0    -122.43  \n",
            "1    -117.39  \n",
            "2    -122.98  \n",
            "3    -117.70  \n",
            "4    -116.93  \n"
          ]
        }
      ],
      "source": [
        "# Convert X_train into a DataFrame with attribute names\n",
        "df_train = pd.DataFrame(X_train, columns=housing.feature_names)\n",
        "\n",
        "# Print the DataFrame\n",
        "print(df_train.head())  # Print the first few rows of the DataFrame\n"
      ]
    },
    {
      "cell_type": "markdown",
      "metadata": {
        "id": "5MezZ9hEhgRw"
      },
      "source": [
        "Let us standardize the data"
      ]
    },
    {
      "cell_type": "code",
      "execution_count": 8,
      "metadata": {
        "id": "CKri5ezPgraO"
      },
      "outputs": [],
      "source": [
        "scaler = StandardScaler()\n",
        "X_train = scaler.fit_transform(X_train)\n",
        "X_valid = scaler.transform(X_valid)\n",
        "X_test = scaler.transform(X_test)"
      ]
    },
    {
      "cell_type": "code",
      "execution_count": 9,
      "metadata": {
        "colab": {
          "base_uri": "https://localhost:8080/"
        },
        "id": "F_YsjUFGc0No",
        "outputId": "6cbdba0b-63f3-4b4b-c119-590eedbc9466"
      },
      "outputs": [
        {
          "output_type": "execute_result",
          "data": {
            "text/plain": [
              "11610"
            ]
          },
          "metadata": {},
          "execution_count": 9
        }
      ],
      "source": [
        "len(X_train)"
      ]
    },
    {
      "cell_type": "code",
      "execution_count": 10,
      "metadata": {
        "colab": {
          "base_uri": "https://localhost:8080/"
        },
        "id": "JJRzc8Wbc3F5",
        "outputId": "33c4338b-c928-41f6-9fa1-b5fa46220415"
      },
      "outputs": [
        {
          "output_type": "execute_result",
          "data": {
            "text/plain": [
              "3870"
            ]
          },
          "metadata": {},
          "execution_count": 10
        }
      ],
      "source": [
        "len(X_valid)"
      ]
    },
    {
      "cell_type": "markdown",
      "metadata": {
        "id": "t5bpT4SuhmyD"
      },
      "source": [
        "Let us now define the model architecture"
      ]
    },
    {
      "cell_type": "code",
      "execution_count": 12,
      "metadata": {
        "colab": {
          "base_uri": "https://localhost:8080/"
        },
        "id": "4_3_d2hqi_c0",
        "outputId": "0b133714-495e-431f-9331-dbae18da7852"
      },
      "outputs": [
        {
          "output_type": "stream",
          "name": "stdout",
          "text": [
            "Epoch 1/50\n"
          ]
        },
        {
          "output_type": "stream",
          "name": "stderr",
          "text": [
            "/usr/local/lib/python3.11/dist-packages/keras/src/layers/core/dense.py:87: UserWarning: Do not pass an `input_shape`/`input_dim` argument to a layer. When using Sequential models, prefer using an `Input(shape)` object as the first layer in the model instead.\n",
            "  super().__init__(activity_regularizer=activity_regularizer, **kwargs)\n"
          ]
        },
        {
          "output_type": "stream",
          "name": "stdout",
          "text": [
            "\u001b[1m363/363\u001b[0m \u001b[32m━━━━━━━━━━━━━━━━━━━━\u001b[0m\u001b[37m\u001b[0m \u001b[1m4s\u001b[0m 5ms/step - loss: 1.6101 - val_loss: 0.8045\n",
            "Epoch 2/50\n",
            "\u001b[1m363/363\u001b[0m \u001b[32m━━━━━━━━━━━━━━━━━━━━\u001b[0m\u001b[37m\u001b[0m \u001b[1m2s\u001b[0m 4ms/step - loss: 0.6285 - val_loss: 0.4649\n",
            "Epoch 3/50\n",
            "\u001b[1m363/363\u001b[0m \u001b[32m━━━━━━━━━━━━━━━━━━━━\u001b[0m\u001b[37m\u001b[0m \u001b[1m1s\u001b[0m 3ms/step - loss: 0.5627 - val_loss: 0.4430\n",
            "Epoch 4/50\n",
            "\u001b[1m363/363\u001b[0m \u001b[32m━━━━━━━━━━━━━━━━━━━━\u001b[0m\u001b[37m\u001b[0m \u001b[1m1s\u001b[0m 3ms/step - loss: 0.5212 - val_loss: 0.4460\n",
            "Epoch 5/50\n",
            "\u001b[1m363/363\u001b[0m \u001b[32m━━━━━━━━━━━━━━━━━━━━\u001b[0m\u001b[37m\u001b[0m \u001b[1m1s\u001b[0m 3ms/step - loss: 0.5085 - val_loss: 0.4446\n",
            "Epoch 6/50\n",
            "\u001b[1m363/363\u001b[0m \u001b[32m━━━━━━━━━━━━━━━━━━━━\u001b[0m\u001b[37m\u001b[0m \u001b[1m1s\u001b[0m 3ms/step - loss: 0.5011 - val_loss: 0.5720\n",
            "Epoch 7/50\n",
            "\u001b[1m363/363\u001b[0m \u001b[32m━━━━━━━━━━━━━━━━━━━━\u001b[0m\u001b[37m\u001b[0m \u001b[1m1s\u001b[0m 3ms/step - loss: 0.4741 - val_loss: 0.4360\n",
            "Epoch 8/50\n",
            "\u001b[1m363/363\u001b[0m \u001b[32m━━━━━━━━━━━━━━━━━━━━\u001b[0m\u001b[37m\u001b[0m \u001b[1m1s\u001b[0m 3ms/step - loss: 0.4579 - val_loss: 0.3958\n",
            "Epoch 9/50\n",
            "\u001b[1m363/363\u001b[0m \u001b[32m━━━━━━━━━━━━━━━━━━━━\u001b[0m\u001b[37m\u001b[0m \u001b[1m1s\u001b[0m 3ms/step - loss: 0.4553 - val_loss: 0.5711\n",
            "Epoch 10/50\n",
            "\u001b[1m363/363\u001b[0m \u001b[32m━━━━━━━━━━━━━━━━━━━━\u001b[0m\u001b[37m\u001b[0m \u001b[1m2s\u001b[0m 4ms/step - loss: 0.4382 - val_loss: 0.3798\n",
            "Epoch 11/50\n",
            "\u001b[1m363/363\u001b[0m \u001b[32m━━━━━━━━━━━━━━━━━━━━\u001b[0m\u001b[37m\u001b[0m \u001b[1m2s\u001b[0m 3ms/step - loss: 0.4233 - val_loss: 0.4630\n",
            "Epoch 12/50\n",
            "\u001b[1m363/363\u001b[0m \u001b[32m━━━━━━━━━━━━━━━━━━━━\u001b[0m\u001b[37m\u001b[0m \u001b[1m1s\u001b[0m 3ms/step - loss: 0.4248 - val_loss: 0.3817\n",
            "Epoch 13/50\n",
            "\u001b[1m363/363\u001b[0m \u001b[32m━━━━━━━━━━━━━━━━━━━━\u001b[0m\u001b[37m\u001b[0m \u001b[1m1s\u001b[0m 3ms/step - loss: 0.4176 - val_loss: 0.3556\n",
            "Epoch 14/50\n",
            "\u001b[1m363/363\u001b[0m \u001b[32m━━━━━━━━━━━━━━━━━━━━\u001b[0m\u001b[37m\u001b[0m \u001b[1m1s\u001b[0m 3ms/step - loss: 0.4120 - val_loss: 0.3517\n",
            "Epoch 15/50\n",
            "\u001b[1m363/363\u001b[0m \u001b[32m━━━━━━━━━━━━━━━━━━━━\u001b[0m\u001b[37m\u001b[0m \u001b[1m1s\u001b[0m 3ms/step - loss: 0.4045 - val_loss: 0.6001\n",
            "Epoch 16/50\n",
            "\u001b[1m363/363\u001b[0m \u001b[32m━━━━━━━━━━━━━━━━━━━━\u001b[0m\u001b[37m\u001b[0m \u001b[1m1s\u001b[0m 3ms/step - loss: 0.3942 - val_loss: 0.3773\n",
            "Epoch 17/50\n",
            "\u001b[1m363/363\u001b[0m \u001b[32m━━━━━━━━━━━━━━━━━━━━\u001b[0m\u001b[37m\u001b[0m \u001b[1m1s\u001b[0m 3ms/step - loss: 0.3990 - val_loss: 0.3791\n",
            "Epoch 18/50\n",
            "\u001b[1m363/363\u001b[0m \u001b[32m━━━━━━━━━━━━━━━━━━━━\u001b[0m\u001b[37m\u001b[0m \u001b[1m1s\u001b[0m 3ms/step - loss: 0.3902 - val_loss: 0.4589\n",
            "Epoch 19/50\n",
            "\u001b[1m363/363\u001b[0m \u001b[32m━━━━━━━━━━━━━━━━━━━━\u001b[0m\u001b[37m\u001b[0m \u001b[1m1s\u001b[0m 4ms/step - loss: 0.3813 - val_loss: 0.3568\n"
          ]
        }
      ],
      "source": [
        "\n",
        "from tensorflow import keras\n",
        "from tensorflow.keras import layers, regularizers\n",
        "from tensorflow.keras.callbacks import EarlyStopping\n",
        "\n",
        "# Clear Keras backend session and set seeds for reproducibility\n",
        "# This helps ensure that model training results are consistent across runs\n",
        "keras.backend.clear_session()\n",
        "np.random.seed(42)\n",
        "tf.random.set_seed(42)\n",
        "\n",
        "#  Define a deep feedforward neural network for regression\n",
        "# Includes L2 regularization and dropout to reduce overfitting\n",
        "model = keras.models.Sequential([\n",
        "    # First hidden layer with 128 neurons, ReLU activation, and L2 regularization\n",
        "    layers.Dense(128, activation=\"relu\", input_shape=X_train.shape[1:],\n",
        "                 kernel_regularizer=regularizers.l2(0.001)),\n",
        "    layers.Dropout(0.3),  # Randomly drops 30% of neurons during training\n",
        "\n",
        "    # Second hidden layer with 64 neurons and regularization\n",
        "    layers.Dense(64, activation=\"relu\", kernel_regularizer=regularizers.l2(0.001)),\n",
        "    layers.Dropout(0.3),\n",
        "\n",
        "    # Third hidden layer without regularization (acts as transition layer)\n",
        "    layers.Dense(32, activation=\"relu\"),\n",
        "\n",
        "    # Output layer with 1 neuron for predicting a single continuous value\n",
        "    layers.Dense(1)\n",
        "])\n",
        "\n",
        "#  Compile the model using Adam optimizer with custom learning rate\n",
        "# MSE (Mean Squared Error) is used as the loss function for regression\n",
        "optimizer = keras.optimizers.Adam(learning_rate=0.001)\n",
        "model.compile(loss=\"mean_squared_error\", optimizer=optimizer)\n",
        "\n",
        "#  Define EarlyStopping to monitor validation loss and prevent overfitting\n",
        "# Training stops if no improvement is seen for 5 epochs, and restores best weights\n",
        "early_stop = EarlyStopping(monitor='val_loss', patience=5, restore_best_weights=True)\n",
        "\n",
        "#  Train the model for up to 50 epochs with validation data\n",
        "# Early stopping ensures efficient training and good generalization\n",
        "history = model.fit(\n",
        "    X_train, y_train,\n",
        "    epochs=50,\n",
        "    validation_data=(X_valid, y_valid),\n",
        "    callbacks=[early_stop]\n",
        ")\n"
      ]
    },
    {
      "cell_type": "code",
      "execution_count": 13,
      "metadata": {
        "colab": {
          "base_uri": "https://localhost:8080/",
          "height": 472
        },
        "id": "405uxpNUmRy2",
        "outputId": "381b07c8-e704-4971-a5eb-6bd9c2f5b77c"
      },
      "outputs": [
        {
          "output_type": "display_data",
          "data": {
            "text/plain": [
              "<Figure size 640x480 with 1 Axes>"
            ],
            "image/png": "[encoded data removed]"
          },
          "metadata": {}
        }
      ],
      "source": [
        "# Plot the loss\n",
        "plt.plot(history.history['loss'], label='Training loss')\n",
        "plt.plot(history.history['val_loss'], label='Validation loss')\n",
        "plt.legend()\n",
        "plt.xlabel('Epochs')\n",
        "plt.ylabel('Loss')\n",
        "plt.title('Training and Validation Loss')\n",
        "plt.show()"
      ]
    },
    {
      "cell_type": "markdown",
      "metadata": {
        "id": "963l10oShryj"
      },
      "source": [
        "Let us evaluate the model testing performance"
      ]
    },
    {
      "cell_type": "code",
      "execution_count": 14,
      "metadata": {
        "colab": {
          "base_uri": "https://localhost:8080/"
        },
        "id": "tQcRFozmmSCQ",
        "outputId": "6314d061-30e9-47dd-81ba-27d6cb0560c2"
      },
      "outputs": [
        {
          "output_type": "stream",
          "name": "stdout",
          "text": [
            "\u001b[1m162/162\u001b[0m \u001b[32m━━━━━━━━━━━━━━━━━━━━\u001b[0m\u001b[37m\u001b[0m \u001b[1m0s\u001b[0m 2ms/step - loss: 0.3621\n"
          ]
        }
      ],
      "source": [
        "# Evaluate the model on the test set\n",
        "mse_test = model.evaluate(X_test, y_test)"
      ]
    },
    {
      "cell_type": "code",
      "execution_count": 15,
      "metadata": {
        "colab": {
          "base_uri": "https://localhost:8080/"
        },
        "id": "uAFis-W8dJRP",
        "outputId": "40ae4373-ba05-4ef7-ec37-1bd9bce72b65"
      },
      "outputs": [
        {
          "output_type": "stream",
          "name": "stdout",
          "text": [
            "\u001b[1m1/1\u001b[0m \u001b[32m━━━━━━━━━━━━━━━━━━━━\u001b[0m\u001b[37m\u001b[0m \u001b[1m0s\u001b[0m 75ms/step\n",
            "Sample 1:\n",
            "Predicted: 0.7316420674324036\n",
            "Actual: 0.477\n",
            "Sample 2:\n",
            "Predicted: 1.682723045349121\n",
            "Actual: 0.458\n",
            "Sample 3:\n",
            "Predicted: 4.261172294616699\n",
            "Actual: 5.00001\n"
          ]
        }
      ],
      "source": [
        "\n",
        "# Make predictions on new data\n",
        "X_new = X_test[:3]\n",
        "y_pred = model.predict(X_new)\n",
        "\n",
        "# Compare predictions with actual values\n",
        "for i in range(len(X_new)):\n",
        "    print(f\"Sample {i+1}:\")\n",
        "    print(f\"Predicted: {y_pred[i][0]}\")\n",
        "    print(f\"Actual: {y_test[i]}\")"
      ]
    }
  ],
  "metadata": {
    "colab": {
      "provenance": []
    },
    "kernelspec": {
      "display_name": "Python 3",
      "language": "python",
      "name": "python3"
    },
    "language_info": {
      "codemirror_mode": {
        "name": "ipython",
        "version": 3
      },
      "file_extension": ".py",
      "mimetype": "text/x-python",
      "name": "python",
      "nbconvert_exporter": "python",
      "pygments_lexer": "ipython3",
      "version": "3.7.10"
    },
    "nav_menu": {
      "height": "264px",
      "width": "369px"
    },
    "toc": {
      "navigate_menu": true,
      "number_sections": true,
      "sideBar": true,
      "threshold": 6,
      "toc_cell": false,
      "toc_section_display": "block",
      "toc_window_display": false
    }
  },
  "nbformat": 4,
  "nbformat_minor": 0
}